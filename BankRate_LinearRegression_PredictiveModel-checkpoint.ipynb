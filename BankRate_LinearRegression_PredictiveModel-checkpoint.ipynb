{
 "cells": [
  {
   "cell_type": "markdown",
   "metadata": {},
   "source": [
    "# Blacklight/MA Capital One Cash Deposits Marketing Predictive Analytics \n"
   ]
  },
  {
   "cell_type": "code",
   "execution_count": null,
   "metadata": {},
   "outputs": [],
   "source": []
  },
  {
   "cell_type": "code",
   "execution_count": null,
   "metadata": {},
   "outputs": [],
   "source": []
  },
  {
   "cell_type": "code",
   "execution_count": null,
   "metadata": {},
   "outputs": [],
   "source": []
  },
  {
   "cell_type": "markdown",
   "metadata": {},
   "source": [
    "## Algorithmic Code for Predicting Total Deposits for Capital One Bank CD Offering\n"
   ]
  },
  {
   "cell_type": "code",
   "execution_count": null,
   "metadata": {},
   "outputs": [],
   "source": []
  },
  {
   "cell_type": "code",
   "execution_count": null,
   "metadata": {},
   "outputs": [],
   "source": []
  },
  {
   "cell_type": "code",
   "execution_count": null,
   "metadata": {},
   "outputs": [],
   "source": []
  },
  {
   "cell_type": "code",
   "execution_count": 1,
   "metadata": {},
   "outputs": [],
   "source": [
    "import pandas as pd\n",
    "import numpy as np\n",
    "%matplotlib inline"
   ]
  },
  {
   "cell_type": "markdown",
   "metadata": {},
   "source": [
    "## Importing Datasets"
   ]
  },
  {
   "cell_type": "code",
   "execution_count": 2,
   "metadata": {},
   "outputs": [],
   "source": [
    "path=\"Raw Data\\RAW_COF-CDBankRate_Report_thru_1.06.2019.csv\""
   ]
  },
  {
   "cell_type": "code",
   "execution_count": 3,
   "metadata": {},
   "outputs": [
    {
     "name": "stdout",
     "output_type": "stream",
     "text": [
      " Volume in drive C has no label.\n",
      " Volume Serial Number is D00F-3EF0\n",
      "\n",
      " Directory of C:\\Users\\tchopra\\Predictive Analytics Folder\n",
      "\n",
      "01/08/2019  05:16 PM    <DIR>          .\n",
      "01/08/2019  05:16 PM    <DIR>          ..\n",
      "01/08/2019  05:16 PM    <DIR>          .ipynb_checkpoints\n",
      "01/08/2019  05:16 PM            24,334 BankRate_LinearRegression_PredictiveModel.ipynb\n",
      "01/08/2019  05:10 PM    <DIR>          Raw Data\n",
      "               1 File(s)         24,334 bytes\n",
      "               4 Dir(s)  111,412,314,112 bytes free\n"
     ]
    }
   ],
   "source": [
    "ls"
   ]
  },
  {
   "cell_type": "code",
   "execution_count": 4,
   "metadata": {},
   "outputs": [],
   "source": [
    "dfbr=pd.read_csv(path)"
   ]
  },
  {
   "cell_type": "markdown",
   "metadata": {},
   "source": [
    "##  Reviewing Dataset from Capital One Bank"
   ]
  },
  {
   "cell_type": "code",
   "execution_count": 8,
   "metadata": {},
   "outputs": [
    {
     "data": {
      "text/plain": [
       "Index(['Campaign', 'Date', 'Site (DCM)', 'Placement', 'Impressions', 'Clicks',\n",
       "       'Net Media Cost', 'Total Gross NABs', 'Total New Cust NABs (Gross)',\n",
       "       'Total Fast App NABs (Gross)',\n",
       "       ...\n",
       "       'New Cust Deps (Post Amb, Post Cann)', 'Fast App Deps (Post Amb)',\n",
       "       'Fast App Deposits (Post Amb, Post Cann)', 'Digital Channel', 'Weekday',\n",
       "       'Month', 'Term', 'Site + Term', 'View Based NABs (gross)',\n",
       "       'Click Based NABs (gross)'],\n",
       "      dtype='object', length=103)"
      ]
     },
     "execution_count": 8,
     "metadata": {},
     "output_type": "execute_result"
    }
   ],
   "source": [
    "dfbr.columns"
   ]
  },
  {
   "cell_type": "code",
   "execution_count": 9,
   "metadata": {},
   "outputs": [
    {
     "data": {
      "text/plain": [
       "Campaign                                    object\n",
       "Date                                        object\n",
       "Site (DCM)                                  object\n",
       "Placement                                   object\n",
       "Impressions                                  int64\n",
       "Clicks                                       int64\n",
       "Net Media Cost                              object\n",
       "Total Gross NABs                             int64\n",
       "Total New Cust NABs (Gross)                  int64\n",
       "Total Fast App NABs (Gross)                  int64\n",
       "12M_New Customer_Desktop: Click              int64\n",
       "12M_New Customer_Desktop: View               int64\n",
       "12M_New Customer_Mobile: Click               int64\n",
       "12M_New Customer_Mobile: View                int64\n",
       "18M_New Customer_Desktop: Click              int64\n",
       "18M_New Customer_Desktop: View               int64\n",
       "18M_New Customer_Mobile: Click               int64\n",
       "18M_New Customer_Mobile: View                int64\n",
       "24M_New Customer_Desktop: Click              int64\n",
       "24M_New Customer_Desktop: View               int64\n",
       "24M_New Customer_Mobile: Click               int64\n",
       "24M_New Customer_Mobile: View                int64\n",
       "30M_New Customer_Desktop: Click              int64\n",
       "30M_New Customer_Desktop: View               int64\n",
       "30M_New Customer_Mobile: Click               int64\n",
       "30M_New Customer_Mobile: View                int64\n",
       "36M_New Customer_Desktop: Click              int64\n",
       "36M_New Customer_Desktop: View               int64\n",
       "36M_New Customer_Mobile: Click               int64\n",
       "36M_New Customer_Mobile: View                int64\n",
       "                                            ...   \n",
       "60M_FastApp_Mobile: View                     int64\n",
       "6M_FastApp_Desktop: Click                    int64\n",
       "6M_FastApp_Desktop: View                     int64\n",
       "6M_FastApp_Mobile: Click                     int64\n",
       "6M_FastApp_Mobile: View                      int64\n",
       "9M_FastApp_Desktop: Click                    int64\n",
       "9M_FastApp_Desktop: View                     int64\n",
       "9M_FastApp_Mobile: Click                     int64\n",
       "9M_FastApp_Mobile: View                      int64\n",
       "30M_FastApp_Mobile: Click                    int64\n",
       "30M_FastApp_Mobile: View                     int64\n",
       "36M_FastApp_Mobile: Click                    int64\n",
       "36M_FastApp_Mobile: View                     int64\n",
       "48M_FastApp_Mobile: Click                    int64\n",
       "48M_FastApp_Mobile: View                     int64\n",
       "BL Fee                                     float64\n",
       "Ad Serving                                 float64\n",
       "New NABs (post Amb)                        float64\n",
       "Fast App NABs (post Amb)                   float64\n",
       "New Cust Deps (Post Amb)                   float64\n",
       "New Cust Deps (Post Amb, Post Cann)        float64\n",
       "Fast App Deps (Post Amb)                   float64\n",
       "Fast App Deposits (Post Amb, Post Cann)    float64\n",
       "Digital Channel                             object\n",
       "Weekday                                      int64\n",
       "Month                                       object\n",
       "Term                                        object\n",
       "Site + Term                                 object\n",
       "View Based NABs (gross)                      int64\n",
       "Click Based NABs (gross)                     int64\n",
       "Length: 103, dtype: object"
      ]
     },
     "execution_count": 9,
     "metadata": {},
     "output_type": "execute_result"
    }
   ],
   "source": [
    "dfbr.dtypes"
   ]
  },
  {
   "cell_type": "code",
   "execution_count": 10,
   "metadata": {},
   "outputs": [],
   "source": [
    "obj_cols = dfbr.select_dtypes(['object']).columns"
   ]
  },
  {
   "cell_type": "code",
   "execution_count": 11,
   "metadata": {},
   "outputs": [],
   "source": [
    "ndfbr = dfbr.drop(obj_cols, axis=1)"
   ]
  },
  {
   "cell_type": "markdown",
   "metadata": {},
   "source": [
    "## Splitting the Dataset into 'Training Data' and 'Testing Data'"
   ]
  },
  {
   "cell_type": "code",
   "execution_count": 12,
   "metadata": {},
   "outputs": [],
   "source": [
    "from sklearn.model_selection import train_test_split\n",
    "\n",
    "# Extracting the target variable without encoding(we will have 2 for this dataset)\n",
    "\n",
    "train_on= ndfbr\n",
    "train_label= dfbr[\"New Cust Deps (Post Amb)\"].astype(int) +dfbr[\"Fast App Deps (Post Amb)\"].astype(int)\n",
    "x_train, x_test, y_train, y_test = train_test_split(train_on, train_label, test_size=0.25, random_state=42)"
   ]
  },
  {
   "cell_type": "markdown",
   "metadata": {},
   "source": [
    "## Defining Function to Evaluate Performance"
   ]
  },
  {
   "cell_type": "code",
   "execution_count": 13,
   "metadata": {},
   "outputs": [],
   "source": [
    "from sklearn.linear_model import LinearRegression\n",
    "\n",
    "from sklearn.metrics import mean_squared_error\n",
    "import warnings\n",
    "warnings.filterwarnings('ignore', category = RuntimeWarning)\n",
    "\n",
    "def metrics(train_pred, valid_pred, y_train, y_valid):\n",
    "    \"\"\"Calculate metrics: Root mean squared error and mean absolute percentage error\"\"\"\n",
    "    \n",
    "    # Root mean squared error\n",
    "    train_rmse = np.sqrt(mean_squared_error(y_train, train_pred))\n",
    "    valid_rmse = np.sqrt(mean_squared_error(y_valid, valid_pred))\n",
    "    \n",
    "    # Calculate absolute percentage error\n",
    "    train_ape = abs((y_train - train_pred) / y_train)\n",
    "    valid_ape = abs((y_valid - valid_pred) / y_valid)\n",
    "    \n",
    "    # Account for y values of 0\n",
    "    train_ape[train_ape == np.inf] = 0\n",
    "    train_ape[train_ape == -np.inf] = 0\n",
    "    valid_ape[valid_ape == np.inf] = 0\n",
    "    valid_ape[valid_ape == -np.inf] = 0\n",
    "    \n",
    "    train_mape = 100 * np.mean(train_ape)\n",
    "    valid_mape = 100 * np.mean(valid_ape)\n",
    "    \n",
    "    return train_rmse, valid_rmse, train_mape, valid_mape\n",
    "\n",
    "def evaluate(model, features, X_train, X_valid, y_train, y_valid):\n",
    "    \"\"\"Mean absolute percentage error\"\"\"\n",
    "    \n",
    "    # Make predictions\n",
    "    train_pred = model.predict(X_train[features])\n",
    "    valid_pred = model.predict(X_valid[features])\n",
    "    \n",
    "    # Get metrics\n",
    "    train_rmse, valid_rmse, train_mape, valid_mape = metrics(train_pred, valid_pred,\n",
    "                                                             y_train, y_valid)\n",
    "    print(f'Training:   rmse = {round(train_rmse, 2)} \\t mape = {round(train_mape, 2)}')\n",
    "    print(f'Validation: rmse = {round(valid_rmse, 2)} \\t mape = {round(valid_mape, 2)}')"
   ]
  },
  {
   "cell_type": "markdown",
   "metadata": {},
   "source": [
    "## Creating Target Variable for Linear Regression"
   ]
  },
  {
   "cell_type": "code",
   "execution_count": 14,
   "metadata": {},
   "outputs": [],
   "source": [
    "lr = LinearRegression()"
   ]
  },
  {
   "cell_type": "code",
   "execution_count": 15,
   "metadata": {},
   "outputs": [
    {
     "name": "stdout",
     "output_type": "stream",
     "text": [
      "Intercept -0.036\n",
      "abs_lat_diff coef:  -0.0002 \tabs_lon_diff coef: -0.0291 \tpassenger_count coef: 0.0257\n"
     ]
    }
   ],
   "source": [
    "# Training a simple (only using three methods)\n",
    "\n",
    "lr.fit(x_train, y_train)\n",
    "\n",
    "print('Intercept', round(lr.intercept_, 4))\n",
    "print('abs_lat_diff coef: ', round(lr.coef_[0], 4), \n",
    "      '\\tabs_lon_diff coef:', round(lr.coef_[1], 4),\n",
    "      '\\tpassenger_count coef:', round(lr.coef_[2], 4))"
   ]
  },
  {
   "cell_type": "code",
   "execution_count": 16,
   "metadata": {},
   "outputs": [
    {
     "data": {
      "text/plain": [
       "array([-2.17046684e-04, -2.91421240e-02,  2.57023674e-02,  5.94933959e-02,\n",
       "       -3.37910283e-02, -1.06855362e-01, -1.50380819e-10,  3.00569095e-01,\n",
       "       -2.35664821e-11, -1.96140956e-01, -1.74705399e-01, -3.02809918e-01,\n",
       "       -2.86864383e-01, -7.85741646e-02, -2.34751670e-02, -2.71055888e-02,\n",
       "        1.29582109e-01,  7.41919830e-02, -3.54031788e-02,  3.63853882e-01,\n",
       "       -1.33236375e-02,  3.17917175e-02,  2.26503005e-02, -1.33004189e-01,\n",
       "       -1.27675648e-15, -4.67115183e-02,  3.11337326e-02,  3.20710059e-01,\n",
       "       -7.66747776e-16, -1.74865363e-02, -2.18717601e-01, -4.12726888e-02,\n",
       "       -3.86847061e-02, -1.59750319e-01,  5.79745108e-01,  8.80965412e-02,\n",
       "        3.18044970e-01,  1.59682938e-02, -8.30889767e-02,  2.84984738e-02,\n",
       "       -1.21795116e-01, -1.74650262e-03, -3.80885601e-02, -3.35272321e-02,\n",
       "       -1.06046233e-01,  3.26128013e-16,  3.60822483e-16, -1.30101521e-02,\n",
       "       -4.95003948e-02, -1.56604437e-02, -6.79397812e-02, -5.20544497e-02,\n",
       "       -8.92974873e-02,  5.47885009e-03, -5.95685417e-02, -5.45172116e-02,\n",
       "       -4.14597573e-02, -1.83621301e-02, -6.27902355e-02,  7.73239219e-02,\n",
       "        8.99159705e-02,  6.36706808e-02, -1.52239571e-02,  2.29922231e-02,\n",
       "        1.25804991e-03,  4.34899477e-03, -1.92828977e-02,  2.03483886e-02,\n",
       "       -1.65759276e-01,  3.15633378e-02, -1.88809625e-01, -1.34016475e-02,\n",
       "       -3.25816214e-02, -1.16340905e-01,  3.02494680e-02, -1.15901144e-01,\n",
       "        1.11022302e-16,  1.07577119e-01,  5.92164678e-01,  2.81914964e-02,\n",
       "        1.53922558e-01, -4.08882452e-02,  9.38820181e-03, -2.02613243e-05,\n",
       "        3.88863374e+00,  5.05693864e-02, -2.36537199e-02,  1.00001877e+00,\n",
       "       -2.20784804e-05,  1.00000147e+00, -8.68333664e-07, -4.12306065e-03,\n",
       "        2.56486140e-02,  5.37533375e-05])"
      ]
     },
     "execution_count": 16,
     "metadata": {},
     "output_type": "execute_result"
    }
   ],
   "source": [
    "lr.coef_"
   ]
  },
  {
   "cell_type": "markdown",
   "metadata": {},
   "source": [
    "## Evaluating Predictiion Accuarcy of Linear Regression Model"
   ]
  },
  {
   "cell_type": "code",
   "execution_count": 17,
   "metadata": {},
   "outputs": [
    {
     "name": "stdout",
     "output_type": "stream",
     "text": [
      "Training:   rmse = 0.25 \t mape = 0.0\n",
      "Validation: rmse = 0.25 \t mape = 0.0\n"
     ]
    }
   ],
   "source": [
    "evaluate(lr, x_train.columns , x_train, x_test, y_train, y_test)"
   ]
  }
 ],
 "metadata": {
  "kernelspec": {
   "display_name": "Python 3",
   "language": "python",
   "name": "python3"
  },
  "language_info": {
   "codemirror_mode": {
    "name": "ipython",
    "version": 3
   },
   "file_extension": ".py",
   "mimetype": "text/x-python",
   "name": "python",
   "nbconvert_exporter": "python",
   "pygments_lexer": "ipython3",
   "version": "3.7.0"
  }
 },
 "nbformat": 4,
 "nbformat_minor": 2
}
